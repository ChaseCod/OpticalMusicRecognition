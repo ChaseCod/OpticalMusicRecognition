{
 "metadata": {
  "language_info": {
   "codemirror_mode": {
    "name": "ipython",
    "version": 3
   },
   "file_extension": ".py",
   "mimetype": "text/x-python",
   "name": "python",
   "nbconvert_exporter": "python",
   "pygments_lexer": "ipython3",
   "version": "3.9.5"
  },
  "orig_nbformat": 4,
  "kernelspec": {
   "name": "python3",
   "display_name": "Python 3.9.5 64-bit"
  },
  "interpreter": {
   "hash": "5f32b46b154a184afd9e753b821bd49119defb768fad04c1245ac055f31252d7"
  }
 },
 "nbformat": 4,
 "nbformat_minor": 2,
 "cells": [
  {
   "cell_type": "code",
   "execution_count": null,
   "metadata": {},
   "outputs": [],
   "source": [
    "import numpy as np\n",
    "from skimage.filters import median\n",
    "from spatial_filter import medf\n",
    "#img=np.random.randint(10,size=(5,5))\n",
    "img1=np.array([[7, 1, 6, 7,2],\n",
    " [9 ,1, 8, 9, 5],\n",
    " [4 ,4 ,6 ,3 ,0],\n",
    " [8 ,8, 1, 8, 7],\n",
    " [0 ,0 ,7, 7 ,5]])\n",
    "sorted_knl=np.sort(img1, axis=None, kind='quicksort')\n",
    "print(len(sorted_knl))\n",
    "print(img1)\n",
    "img2=medf(3,img1)\n",
    "print(img2)\n",
    "img3=median(img1,mode='constant',cval=0.0)\n",
    "print(img3)"
   ]
  },
  {
   "cell_type": "code",
   "execution_count": null,
   "metadata": {},
   "outputs": [],
   "source": [
    "import numpy as np\n",
    "def pad_img(img,size):\n",
    "    m,n=img.shape\n",
    "    pad_len=int((size-1)/2)#padding length for each edge\n",
    "    padded_img=np.zeros([m+size-1,n+size-1])\n",
    "    for i in range(pad_len, pad_len+m):\n",
    "        for j in range(pad_len, pad_len+n):\n",
    "            padded_img[i,j]=img[i-pad_len,j-pad_len]\n",
    "    return padded_img\n",
    "\n",
    "img1=np.array([[7, 1, 6, 7,2],\n",
    " [9 ,1, 8, 9, 5],\n",
    " [4 ,4 ,6 ,3 ,0],\n",
    " [8 ,8, 1, 8, 7],\n",
    " [0 ,0 ,7, 7 ,5]])\n",
    "\n",
    "img=pad_img(img1,3)\n",
    "print(img)\n",
    "print(img.shape)"
   ]
  },
  {
   "cell_type": "code",
   "execution_count": null,
   "metadata": {},
   "outputs": [],
   "source": [
    "import numpy as np\n",
    "a=np.array([[7, 1, 6, 7,2],\n",
    " [9 ,1, 8, 9, 5],\n",
    " [4 ,4 ,6 ,3 ,0],\n",
    " [8 ,8, 1, 8, 7],\n",
    " [0 ,0 ,7, 7 ,5]])\n",
    "b=np.sort(a,axis=None)\n",
    "print(a)\n",
    "print(b)"
   ]
  },
  {
   "cell_type": "code",
   "execution_count": 65,
   "metadata": {},
   "outputs": [
    {
     "output_type": "stream",
     "name": "stdout",
     "text": [
      "[[0 1 1 5 0]\n [1 6 6 6 2]\n [4 6 6 6 3]\n [0 4 6 6 3]\n [0 0 1 5 0]]\n"
     ]
    }
   ],
   "source": [
    "#import numpy as np\n",
    "def medft(size,img):\n",
    "    m,n=img.shape\n",
    "    kernel=np.zeros([size,size])\n",
    "    pad_len=int((size-1)/2)\n",
    "    padded_img=pad_img(img, size)\n",
    "    new_img=np.zeros([m,n],dtype=np.uint8)\n",
    "    for i in range(pad_len,pad_len+m):\n",
    "        for j in range(pad_len,pad_len+n):\n",
    "            for s in range(0,size):\n",
    "                for t in range(0,size):\n",
    "                    p=i-pad_len+s\n",
    "                    q=j-pad_len+t\n",
    "                    kernel[s,t]=padded_img[p,q]\n",
    "                    #print('s',s,'t',t, 'i',p,'j',q)\n",
    "            sorted_knl=np.sort(kernel, axis=None, kind='quicksort')\n",
    "            #print(sorted_knl)\n",
    "            med=sorted_knl[int((size*size-1)/2)]\n",
    "            new_img[i-pad_len,j-pad_len]=med\n",
    "    return new_img\n",
    "\n",
    "a=np.array([[7, 1, 6, 7,2],\n",
    "            [9 ,1, 8, 9, 5],\n",
    "            [4 ,4 ,6 ,3 ,0],\n",
    "            [8 ,8, 1, 8, 7],\n",
    "            [0 ,0 ,7, 7 ,5]])\n",
    "print(medft(3,a))"
   ]
  },
  {
   "cell_type": "code",
   "execution_count": 63,
   "metadata": {},
   "outputs": [
    {
     "output_type": "execute_result",
     "data": {
      "text/plain": [
       "array([[0, 1, 1, 5, 0],\n",
       "       [1, 6, 6, 6, 2],\n",
       "       [4, 6, 6, 6, 3],\n",
       "       [0, 4, 6, 6, 3],\n",
       "       [0, 0, 1, 5, 0]], dtype=uint8)"
      ]
     },
     "metadata": {},
     "execution_count": 63
    }
   ],
   "source": [
    "\n",
    "img1=np.array([[7, 1, 6, 7,2],\n",
    " [9 ,1, 8, 9, 5],\n",
    " [4 ,4 ,6 ,3 ,0],\n",
    " [8 ,8, 1, 8, 7],\n",
    " [0 ,0 ,7, 7 ,5]])\n",
    "\n",
    "medf(3,img1)"
   ]
  },
  {
   "cell_type": "code",
   "execution_count": null,
   "metadata": {},
   "outputs": [],
   "source": []
  }
 ]
}